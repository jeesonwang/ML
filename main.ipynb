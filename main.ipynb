{
 "cells": [
  {
   "cell_type": "markdown",
   "metadata": {},
   "source": [
    "## 先设定好要使用哪些模型"
   ]
  },
  {
   "cell_type": "code",
   "execution_count": 1,
   "metadata": {},
   "outputs": [
    {
     "name": "stdout",
     "output_type": "stream",
     "text": [
      "KNeighborsClassifier\n",
      "{'algorithm': 'auto', 'leaf_size': 30, 'metric': 'minkowski', 'metric_params': None, 'n_jobs': None, 'n_neighbors': 5, 'p': 2, 'weights': 'uniform'}\n",
      "GradientBoostingClassifier\n",
      "{'ccp_alpha': 0.0, 'criterion': 'friedman_mse', 'init': None, 'learning_rate': 0.1, 'loss': 'log_loss', 'max_depth': 3, 'max_features': None, 'max_leaf_nodes': None, 'min_impurity_decrease': 0.0, 'min_samples_leaf': 1, 'min_samples_split': 2, 'min_weight_fraction_leaf': 0.0, 'n_estimators': 100, 'n_iter_no_change': None, 'random_state': None, 'subsample': 1.0, 'tol': 0.0001, 'validation_fraction': 0.1, 'verbose': 0, 'warm_start': False}\n",
      "AdaBoostClassifier\n",
      "{'algorithm': 'SAMME.R', 'base_estimator': 'deprecated', 'estimator': None, 'learning_rate': 1.0, 'n_estimators': 50, 'random_state': None}\n",
      "RandomForestClassifier\n",
      "{'bootstrap': True, 'ccp_alpha': 0.0, 'class_weight': None, 'criterion': 'gini', 'max_depth': None, 'max_features': 'sqrt', 'max_leaf_nodes': None, 'max_samples': None, 'min_impurity_decrease': 0.0, 'min_samples_leaf': 1, 'min_samples_split': 2, 'min_weight_fraction_leaf': 0.0, 'n_estimators': 100, 'n_jobs': None, 'oob_score': False, 'random_state': None, 'verbose': 0, 'warm_start': False}\n",
      "DecisionTreeClassifier\n",
      "{'ccp_alpha': 0.0, 'class_weight': None, 'criterion': 'gini', 'max_depth': None, 'max_features': None, 'max_leaf_nodes': None, 'min_impurity_decrease': 0.0, 'min_samples_leaf': 1, 'min_samples_split': 2, 'min_weight_fraction_leaf': 0.0, 'random_state': None, 'splitter': 'best'}\n",
      "SVM tuning\n",
      "{'C': 1.0, 'break_ties': False, 'cache_size': 200, 'class_weight': None, 'coef0': 0.0, 'decision_function_shape': 'ovr', 'degree': 3, 'gamma': 'scale', 'kernel': 'rbf', 'max_iter': -1, 'probability': True, 'random_state': None, 'shrinking': True, 'tol': 0.001, 'verbose': False}\n",
      "GaussianNB\n",
      "{'priors': None, 'var_smoothing': 1e-09}\n",
      "LogisticRegression\n",
      "{'C': 1.0, 'class_weight': None, 'dual': False, 'fit_intercept': True, 'intercept_scaling': 1, 'l1_ratio': None, 'max_iter': 100, 'multi_class': 'auto', 'n_jobs': None, 'penalty': 'l2', 'random_state': None, 'solver': 'lbfgs', 'tol': 0.0001, 'verbose': 0, 'warm_start': False}\n",
      "MLPClassifier\n",
      "{'activation': 'relu', 'alpha': 0.0001, 'batch_size': 'auto', 'beta_1': 0.9, 'beta_2': 0.999, 'early_stopping': False, 'epsilon': 1e-08, 'hidden_layer_sizes': (100,), 'learning_rate': 'constant', 'learning_rate_init': 0.001, 'max_fun': 15000, 'max_iter': 200, 'momentum': 0.9, 'n_iter_no_change': 10, 'nesterovs_momentum': True, 'power_t': 0.5, 'random_state': None, 'shuffle': True, 'solver': 'adam', 'tol': 0.0001, 'validation_fraction': 0.1, 'verbose': False, 'warm_start': False}\n"
     ]
    }
   ],
   "source": [
    "from sklearn.tree import DecisionTreeClassifier\n",
    "from sklearn.linear_model import LogisticRegression\n",
    "from sklearn.neighbors import KNeighborsClassifier\n",
    "from sklearn.linear_model import Perceptron\n",
    "from sklearn.naive_bayes import GaussianNB\n",
    "from sklearn.neural_network import MLPClassifier\n",
    "from sklearn.svm import SVC\n",
    "from sklearn.ensemble import GradientBoostingClassifier\n",
    "from sklearn.ensemble import RandomForestClassifier\n",
    "from sklearn.ensemble import BaggingClassifier\n",
    "from sklearn.ensemble import AdaBoostClassifier\n",
    "from sklearn.ensemble import ExtraTreesClassifier\n",
    "from sklearn.gaussian_process import GaussianProcessClassifier\n",
    "\n",
    "from sklearn.experimental import enable_halving_search_cv\n",
    "from sklearn.model_selection import HalvingGridSearchCV\n",
    "\n",
    "from tuning_model import tuning_model\n",
    "from default_model import default_model\n",
    "from utils import write_report_result, filter_algo\n",
    "import numpy as np\n",
    "from hyperparams_grid import *\n",
    "import pandas as pd\n",
    "\n",
    "\n",
    "algo=[\n",
    "    #[BaggingClassifier(), 'BaggingClassifier', grid_bagging],\n",
    "    [KNeighborsClassifier(), 'KNeighborsClassifier',grid_knn],\n",
    "    [GradientBoostingClassifier(), 'GradientBoostingClassifier',grid_gbt],\n",
    "    [AdaBoostClassifier(), 'AdaBoostClassifier', grid_adaboost],\n",
    "    [RandomForestClassifier(), 'RandomForestClassifier',grid_rf],\n",
    "    [DecisionTreeClassifier(), 'DecisionTreeClassifier',grid_dt],\n",
    "    # [GaussianProcessClassifier(), 'GaussianProcessClassifier', grid_gaussian],  ## 这个有问题先去掉不要它\n",
    "    [SVC(probability=True), 'SVM tuning',grid_svm],\n",
    "    [GaussianNB(), 'GaussianNB',grid_nb],\n",
    "    [LogisticRegression(), 'LogisticRegression',grid_lr],\n",
    "    [MLPClassifier(), 'MLPClassifier',grid_mlp]\n",
    "    #[ExtraTreesClassifier(), 'ExtraTreesClassifier', grid_extratrees]\n",
    "]\n",
    "\n",
    "smelltype = 'LargeClass'\n",
    "\n",
    "def print_data_model():\n",
    "    for detail in algo:\n",
    "        print(detail[1])\n",
    "        print(detail[0].get_params())\n",
    "\n",
    "\n",
    "print_data_model()"
   ]
  },
  {
   "cell_type": "markdown",
   "metadata": {},
   "source": [
    "#### 数据导入和数据处理"
   ]
  },
  {
   "cell_type": "code",
   "execution_count": null,
   "metadata": {},
   "outputs": [],
   "source": [
    "from utils import data_processing\n",
    "\n",
    "X, y = data_processing('dataset\\LargeClass.csv')\n",
    "smelltype = 'LargeClass'"
   ]
  },
  {
   "cell_type": "markdown",
   "metadata": {},
   "source": [
    "## 开始网格搜索找到每个分类器的在每个fold中的最佳参数\n",
    "\n",
    "**注意：**\n",
    "* 每个fold的最佳参数都不同\n",
    "* 会保存每个分类器在每个fold中的最佳参数"
   ]
  },
  {
   "cell_type": "code",
   "execution_count": null,
   "metadata": {
    "scrolled": true
   },
   "outputs": [],
   "source": [
    "# 先进行过滤\n",
    "algo = filter_algo(algo, tuned_path = f\"tuning_model/{smelltype}/tuning\")\n",
    "\n",
    "if algo:\n",
    "    # 网格搜索\n",
    "    tuning_model_scores = tuning_model(X, y, smelltype, algo)\n",
    "    tuning_res = write_report_result(tuning_model_scores, f\"tuning_model\\\\{smelltype}\")\n",
    "    # 默认参数\n",
    "    default_model_scores = default_model(f\"tuning_model\\\\{smelltype}_data\", smelltype, algo)\n",
    "    default_res = write_report_result(default_model_scores, f\"default_model\\\\{smelltype}\")\n",
    "else:\n",
    "    print(\"All algorithms have been run.\")"
   ]
  },
  {
   "cell_type": "code",
   "execution_count": 5,
   "metadata": {},
   "outputs": [
    {
     "data": {
      "text/html": [
       "<div>\n",
       "<style scoped>\n",
       "    .dataframe tbody tr th:only-of-type {\n",
       "        vertical-align: middle;\n",
       "    }\n",
       "\n",
       "    .dataframe tbody tr th {\n",
       "        vertical-align: top;\n",
       "    }\n",
       "\n",
       "    .dataframe thead th {\n",
       "        text-align: right;\n",
       "    }\n",
       "</style>\n",
       "<table border=\"1\" class=\"dataframe\">\n",
       "  <thead>\n",
       "    <tr style=\"text-align: right;\">\n",
       "      <th></th>\n",
       "      <th>Model</th>\n",
       "      <th>precision</th>\n",
       "      <th>recall</th>\n",
       "      <th>f1-score</th>\n",
       "    </tr>\n",
       "  </thead>\n",
       "  <tbody>\n",
       "    <tr>\n",
       "      <th>0</th>\n",
       "      <td>KNeighborsClassifier</td>\n",
       "      <td>0.882353</td>\n",
       "      <td>0.384615</td>\n",
       "      <td>0.535714</td>\n",
       "    </tr>\n",
       "    <tr>\n",
       "      <th>1</th>\n",
       "      <td>GradientBoostingClassifier</td>\n",
       "      <td>0.885714</td>\n",
       "      <td>0.794872</td>\n",
       "      <td>0.837838</td>\n",
       "    </tr>\n",
       "    <tr>\n",
       "      <th>2</th>\n",
       "      <td>AdaBoostClassifier</td>\n",
       "      <td>0.842105</td>\n",
       "      <td>0.820513</td>\n",
       "      <td>0.831169</td>\n",
       "    </tr>\n",
       "    <tr>\n",
       "      <th>3</th>\n",
       "      <td>RandomForestClassifier</td>\n",
       "      <td>0.810811</td>\n",
       "      <td>0.769231</td>\n",
       "      <td>0.789474</td>\n",
       "    </tr>\n",
       "    <tr>\n",
       "      <th>4</th>\n",
       "      <td>DecisionTreeClassifier</td>\n",
       "      <td>0.885714</td>\n",
       "      <td>0.794872</td>\n",
       "      <td>0.837838</td>\n",
       "    </tr>\n",
       "    <tr>\n",
       "      <th>5</th>\n",
       "      <td>SVM tuning</td>\n",
       "      <td>0.794118</td>\n",
       "      <td>0.692308</td>\n",
       "      <td>0.739726</td>\n",
       "    </tr>\n",
       "    <tr>\n",
       "      <th>6</th>\n",
       "      <td>GaussianNB</td>\n",
       "      <td>0.568627</td>\n",
       "      <td>0.743590</td>\n",
       "      <td>0.644444</td>\n",
       "    </tr>\n",
       "    <tr>\n",
       "      <th>7</th>\n",
       "      <td>LogisticRegression</td>\n",
       "      <td>0.783784</td>\n",
       "      <td>0.743590</td>\n",
       "      <td>0.763158</td>\n",
       "    </tr>\n",
       "    <tr>\n",
       "      <th>8</th>\n",
       "      <td>MLPClassifier</td>\n",
       "      <td>0.794118</td>\n",
       "      <td>0.692308</td>\n",
       "      <td>0.739726</td>\n",
       "    </tr>\n",
       "  </tbody>\n",
       "</table>\n",
       "</div>"
      ],
      "text/plain": [
       "                        Model  precision    recall  f1-score\n",
       "0        KNeighborsClassifier   0.882353  0.384615  0.535714\n",
       "1  GradientBoostingClassifier   0.885714  0.794872  0.837838\n",
       "2          AdaBoostClassifier   0.842105  0.820513  0.831169\n",
       "3      RandomForestClassifier   0.810811  0.769231  0.789474\n",
       "4      DecisionTreeClassifier   0.885714  0.794872  0.837838\n",
       "5                  SVM tuning   0.794118  0.692308  0.739726\n",
       "6                  GaussianNB   0.568627  0.743590  0.644444\n",
       "7          LogisticRegression   0.783784  0.743590  0.763158\n",
       "8               MLPClassifier   0.794118  0.692308  0.739726"
      ]
     },
     "execution_count": 5,
     "metadata": {},
     "output_type": "execute_result"
    }
   ],
   "source": [
    "tuning_res"
   ]
  },
  {
   "cell_type": "code",
   "execution_count": 6,
   "metadata": {},
   "outputs": [
    {
     "data": {
      "text/html": [
       "<div>\n",
       "<style scoped>\n",
       "    .dataframe tbody tr th:only-of-type {\n",
       "        vertical-align: middle;\n",
       "    }\n",
       "\n",
       "    .dataframe tbody tr th {\n",
       "        vertical-align: top;\n",
       "    }\n",
       "\n",
       "    .dataframe thead th {\n",
       "        text-align: right;\n",
       "    }\n",
       "</style>\n",
       "<table border=\"1\" class=\"dataframe\">\n",
       "  <thead>\n",
       "    <tr style=\"text-align: right;\">\n",
       "      <th></th>\n",
       "      <th>Model</th>\n",
       "      <th>precision</th>\n",
       "      <th>recall</th>\n",
       "      <th>f1-score</th>\n",
       "    </tr>\n",
       "  </thead>\n",
       "  <tbody>\n",
       "    <tr>\n",
       "      <th>0</th>\n",
       "      <td>KNeighborsClassifier</td>\n",
       "      <td>0.900000</td>\n",
       "      <td>0.461538</td>\n",
       "      <td>0.610169</td>\n",
       "    </tr>\n",
       "    <tr>\n",
       "      <th>1</th>\n",
       "      <td>GradientBoostingClassifier</td>\n",
       "      <td>0.861111</td>\n",
       "      <td>0.794872</td>\n",
       "      <td>0.826667</td>\n",
       "    </tr>\n",
       "    <tr>\n",
       "      <th>2</th>\n",
       "      <td>AdaBoostClassifier</td>\n",
       "      <td>0.805556</td>\n",
       "      <td>0.743590</td>\n",
       "      <td>0.773333</td>\n",
       "    </tr>\n",
       "    <tr>\n",
       "      <th>3</th>\n",
       "      <td>RandomForestClassifier</td>\n",
       "      <td>0.868421</td>\n",
       "      <td>0.846154</td>\n",
       "      <td>0.857143</td>\n",
       "    </tr>\n",
       "    <tr>\n",
       "      <th>4</th>\n",
       "      <td>DecisionTreeClassifier</td>\n",
       "      <td>0.882353</td>\n",
       "      <td>0.769231</td>\n",
       "      <td>0.821918</td>\n",
       "    </tr>\n",
       "    <tr>\n",
       "      <th>5</th>\n",
       "      <td>SVM tuning</td>\n",
       "      <td>0.814815</td>\n",
       "      <td>0.564103</td>\n",
       "      <td>0.666667</td>\n",
       "    </tr>\n",
       "    <tr>\n",
       "      <th>6</th>\n",
       "      <td>GaussianNB</td>\n",
       "      <td>0.568627</td>\n",
       "      <td>0.743590</td>\n",
       "      <td>0.644444</td>\n",
       "    </tr>\n",
       "    <tr>\n",
       "      <th>7</th>\n",
       "      <td>LogisticRegression</td>\n",
       "      <td>0.827586</td>\n",
       "      <td>0.615385</td>\n",
       "      <td>0.705882</td>\n",
       "    </tr>\n",
       "    <tr>\n",
       "      <th>8</th>\n",
       "      <td>MLPClassifier</td>\n",
       "      <td>0.787879</td>\n",
       "      <td>0.666667</td>\n",
       "      <td>0.722222</td>\n",
       "    </tr>\n",
       "  </tbody>\n",
       "</table>\n",
       "</div>"
      ],
      "text/plain": [
       "                        Model  precision    recall  f1-score\n",
       "0        KNeighborsClassifier   0.900000  0.461538  0.610169\n",
       "1  GradientBoostingClassifier   0.861111  0.794872  0.826667\n",
       "2          AdaBoostClassifier   0.805556  0.743590  0.773333\n",
       "3      RandomForestClassifier   0.868421  0.846154  0.857143\n",
       "4      DecisionTreeClassifier   0.882353  0.769231  0.821918\n",
       "5                  SVM tuning   0.814815  0.564103  0.666667\n",
       "6                  GaussianNB   0.568627  0.743590  0.644444\n",
       "7          LogisticRegression   0.827586  0.615385  0.705882\n",
       "8               MLPClassifier   0.787879  0.666667  0.722222"
      ]
     },
     "execution_count": 6,
     "metadata": {},
     "output_type": "execute_result"
    }
   ],
   "source": [
    "default_res"
   ]
  },
  {
   "cell_type": "markdown",
   "metadata": {},
   "source": [
    "## Begin using ensemble models"
   ]
  },
  {
   "cell_type": "markdown",
   "metadata": {},
   "source": [
    "* 每一个fold应用不同模型参数设置"
   ]
  },
  {
   "cell_type": "code",
   "execution_count": 4,
   "metadata": {},
   "outputs": [],
   "source": [
    "from sklearn.model_selection import KFold\n",
    "import numpy as np\n",
    "\n",
    "from ensemble import VoteEnsemble, StackingEnsemble\n",
    "from hyperparams_grid import *\n",
    "from utils import write_report_result, get_params_dict\n",
    "\n",
    "se_classifer = StackingEnsemble(algo)\n",
    "ve_classifer = VoteEnsemble(algo)\n",
    "\n",
    "def ensemble_predict(X, y, params_dict, default=False):\n",
    "    kf = KFold(n_splits=10, shuffle=True, random_state=42) \n",
    "    se_predicted_targets = np.array([])\n",
    "    se_actual_targets = np.array([])\n",
    "    ve_predicted_targets = np.array([])\n",
    "    ve_actual_targets = np.array([])\n",
    "    se_model_scores, ve_model_scores = [], []\n",
    "    for fold, (train_index, test_index) in enumerate(kf.split(X), 1):\n",
    "        # set the parameter of the models first.\n",
    "        if default:\n",
    "            se_classifer.set_params()\n",
    "            ve_classifer.set_params()\n",
    "        else:\n",
    "            se_classifer.set_params(params_dict[fold-1])\n",
    "            ve_classifer.set_params(params_dict[fold-1])\n",
    "        # spilt train test\n",
    "        X_train = X[train_index]\n",
    "        y_train = y[train_index]\n",
    "        X_test = X[test_index]\n",
    "        y_test = y[test_index]\n",
    "        se_pred, se_acc, se_f1 = se_classifer.forward(train_X=X_train, train_y=y_train, test_X=X_test, test_y=y_test)\n",
    "        ve_pred, ve_acc, ve_f1 = ve_classifer.forward(train_X=X_train, train_y=y_train, test_X=X_test, test_y=y_test)\n",
    "        se_predicted_targets = np.append(se_predicted_targets, se_pred)\n",
    "        se_actual_targets = np.append(se_actual_targets, y_test)\n",
    "\n",
    "        print(f'Fold :{fold}\\n Stacking Ensemble Accuracy: {se_acc}, Stacking Ensemble F1: {se_f1}\\n Vote Ensemble Accuracy: {ve_acc}, Vote Ensemble F1: {ve_f1}')\n",
    "\n",
    "        ve_predicted_targets = np.append(ve_predicted_targets, ve_pred)\n",
    "        ve_actual_targets = np.append(ve_actual_targets, y_test)\n",
    "\n",
    "    se_model_scores.append([se_predicted_targets, se_actual_targets, 'se'])\n",
    "    ve_model_scores.append([ve_predicted_targets, ve_actual_targets, 've'])\n",
    "    \n",
    "    return se_model_scores + ve_model_scores"
   ]
  },
  {
   "cell_type": "code",
   "execution_count": 15,
   "metadata": {},
   "outputs": [
    {
     "name": "stderr",
     "output_type": "stream",
     "text": [
      "D:\\anaconda3\\envs\\cy\\lib\\site-packages\\sklearn\\svm\\_base.py:1250: ConvergenceWarning: Liblinear failed to converge, increase the number of iterations.\n",
      "  warnings.warn(\n",
      "D:\\anaconda3\\envs\\cy\\lib\\site-packages\\sklearn\\svm\\_base.py:1250: ConvergenceWarning: Liblinear failed to converge, increase the number of iterations.\n",
      "  warnings.warn(\n",
      "D:\\anaconda3\\envs\\cy\\lib\\site-packages\\sklearn\\neural_network\\_multilayer_perceptron.py:691: ConvergenceWarning: Stochastic Optimizer: Maximum iterations (200) reached and the optimization hasn't converged yet.\n",
      "  warnings.warn(\n"
     ]
    },
    {
     "name": "stdout",
     "output_type": "stream",
     "text": [
      "Fold :1\n",
      " Stacking Ensemble Accuracy: 0.9444444444444444, Stacking Ensemble F1: 0.875\n",
      " Vote Ensemble Accuracy: 0.9444444444444444, Vote Ensemble F1: 0.875\n"
     ]
    },
    {
     "name": "stderr",
     "output_type": "stream",
     "text": [
      "D:\\anaconda3\\envs\\cy\\lib\\site-packages\\sklearn\\neural_network\\_multilayer_perceptron.py:691: ConvergenceWarning: Stochastic Optimizer: Maximum iterations (200) reached and the optimization hasn't converged yet.\n",
      "  warnings.warn(\n"
     ]
    },
    {
     "name": "stdout",
     "output_type": "stream",
     "text": [
      "Fold :2\n",
      " Stacking Ensemble Accuracy: 1.0, Stacking Ensemble F1: 1.0\n",
      " Vote Ensemble Accuracy: 1.0, Vote Ensemble F1: 1.0\n"
     ]
    },
    {
     "name": "stderr",
     "output_type": "stream",
     "text": [
      "D:\\anaconda3\\envs\\cy\\lib\\site-packages\\sklearn\\svm\\_base.py:1250: ConvergenceWarning: Liblinear failed to converge, increase the number of iterations.\n",
      "  warnings.warn(\n",
      "D:\\anaconda3\\envs\\cy\\lib\\site-packages\\sklearn\\neural_network\\_multilayer_perceptron.py:691: ConvergenceWarning: Stochastic Optimizer: Maximum iterations (200) reached and the optimization hasn't converged yet.\n",
      "  warnings.warn(\n",
      "D:\\anaconda3\\envs\\cy\\lib\\site-packages\\sklearn\\svm\\_base.py:1250: ConvergenceWarning: Liblinear failed to converge, increase the number of iterations.\n",
      "  warnings.warn(\n",
      "D:\\anaconda3\\envs\\cy\\lib\\site-packages\\sklearn\\neural_network\\_multilayer_perceptron.py:691: ConvergenceWarning: Stochastic Optimizer: Maximum iterations (200) reached and the optimization hasn't converged yet.\n",
      "  warnings.warn(\n"
     ]
    },
    {
     "name": "stdout",
     "output_type": "stream",
     "text": [
      "Fold :3\n",
      " Stacking Ensemble Accuracy: 0.8888888888888888, Stacking Ensemble F1: 0.5\n",
      " Vote Ensemble Accuracy: 0.9166666666666666, Vote Ensemble F1: 0.6666666666666665\n"
     ]
    },
    {
     "name": "stderr",
     "output_type": "stream",
     "text": [
      "D:\\anaconda3\\envs\\cy\\lib\\site-packages\\sklearn\\neural_network\\_multilayer_perceptron.py:691: ConvergenceWarning: Stochastic Optimizer: Maximum iterations (200) reached and the optimization hasn't converged yet.\n",
      "  warnings.warn(\n",
      "D:\\anaconda3\\envs\\cy\\lib\\site-packages\\sklearn\\neural_network\\_multilayer_perceptron.py:691: ConvergenceWarning: Stochastic Optimizer: Maximum iterations (200) reached and the optimization hasn't converged yet.\n",
      "  warnings.warn(\n"
     ]
    },
    {
     "name": "stdout",
     "output_type": "stream",
     "text": [
      "Fold :4\n",
      " Stacking Ensemble Accuracy: 1.0, Stacking Ensemble F1: 1.0\n",
      " Vote Ensemble Accuracy: 1.0, Vote Ensemble F1: 1.0\n"
     ]
    },
    {
     "name": "stderr",
     "output_type": "stream",
     "text": [
      "D:\\anaconda3\\envs\\cy\\lib\\site-packages\\sklearn\\neural_network\\_multilayer_perceptron.py:691: ConvergenceWarning: Stochastic Optimizer: Maximum iterations (200) reached and the optimization hasn't converged yet.\n",
      "  warnings.warn(\n"
     ]
    },
    {
     "name": "stdout",
     "output_type": "stream",
     "text": [
      "Fold :5\n",
      " Stacking Ensemble Accuracy: 0.9444444444444444, Stacking Ensemble F1: 0.6666666666666666\n",
      " Vote Ensemble Accuracy: 0.9444444444444444, Vote Ensemble F1: 0.6666666666666666\n"
     ]
    },
    {
     "name": "stderr",
     "output_type": "stream",
     "text": [
      "D:\\anaconda3\\envs\\cy\\lib\\site-packages\\sklearn\\neural_network\\_multilayer_perceptron.py:691: ConvergenceWarning: Stochastic Optimizer: Maximum iterations (200) reached and the optimization hasn't converged yet.\n",
      "  warnings.warn(\n"
     ]
    },
    {
     "name": "stdout",
     "output_type": "stream",
     "text": [
      "Fold :6\n",
      " Stacking Ensemble Accuracy: 1.0, Stacking Ensemble F1: 1.0\n",
      " Vote Ensemble Accuracy: 0.9722222222222222, Vote Ensemble F1: 0.6666666666666666\n"
     ]
    },
    {
     "name": "stderr",
     "output_type": "stream",
     "text": [
      "D:\\anaconda3\\envs\\cy\\lib\\site-packages\\sklearn\\neural_network\\_multilayer_perceptron.py:691: ConvergenceWarning: Stochastic Optimizer: Maximum iterations (200) reached and the optimization hasn't converged yet.\n",
      "  warnings.warn(\n"
     ]
    },
    {
     "name": "stdout",
     "output_type": "stream",
     "text": [
      "Fold :7\n",
      " Stacking Ensemble Accuracy: 1.0, Stacking Ensemble F1: 1.0\n",
      " Vote Ensemble Accuracy: 1.0, Vote Ensemble F1: 1.0\n"
     ]
    },
    {
     "name": "stderr",
     "output_type": "stream",
     "text": [
      "D:\\anaconda3\\envs\\cy\\lib\\site-packages\\sklearn\\neural_network\\_multilayer_perceptron.py:691: ConvergenceWarning: Stochastic Optimizer: Maximum iterations (200) reached and the optimization hasn't converged yet.\n",
      "  warnings.warn(\n"
     ]
    },
    {
     "name": "stdout",
     "output_type": "stream",
     "text": [
      "Fold :8\n",
      " Stacking Ensemble Accuracy: 0.8888888888888888, Stacking Ensemble F1: 0.6666666666666666\n",
      " Vote Ensemble Accuracy: 0.8888888888888888, Vote Ensemble F1: 0.6666666666666666\n"
     ]
    },
    {
     "name": "stderr",
     "output_type": "stream",
     "text": [
      "D:\\anaconda3\\envs\\cy\\lib\\site-packages\\sklearn\\neural_network\\_multilayer_perceptron.py:691: ConvergenceWarning: Stochastic Optimizer: Maximum iterations (200) reached and the optimization hasn't converged yet.\n",
      "  warnings.warn(\n"
     ]
    },
    {
     "name": "stdout",
     "output_type": "stream",
     "text": [
      "Fold :9\n",
      " Stacking Ensemble Accuracy: 0.9444444444444444, Stacking Ensemble F1: 0.8000000000000002\n",
      " Vote Ensemble Accuracy: 0.9444444444444444, Vote Ensemble F1: 0.8000000000000002\n",
      "Fold :10\n",
      " Stacking Ensemble Accuracy: 1.0, Stacking Ensemble F1: 1.0\n",
      " Vote Ensemble Accuracy: 1.0, Vote Ensemble F1: 1.0\n",
      "all\n",
      "se                  \n",
      "[[316   9]\n",
      " [  5  30]]\n",
      "              precision    recall  f1-score   support\n",
      "\n",
      "         0.0       0.98      0.97      0.98       325\n",
      "         1.0       0.77      0.86      0.81        35\n",
      "\n",
      "    accuracy                           0.96       360\n",
      "   macro avg       0.88      0.91      0.89       360\n",
      "weighted avg       0.96      0.96      0.96       360\n",
      "\n",
      "all\n",
      "ve                  \n",
      "[[316   9]\n",
      " [  5  30]]\n",
      "              precision    recall  f1-score   support\n",
      "\n",
      "         0.0       0.98      0.97      0.98       325\n",
      "         1.0       0.77      0.86      0.81        35\n",
      "\n",
      "    accuracy                           0.96       360\n",
      "   macro avg       0.88      0.91      0.89       360\n",
      "weighted avg       0.96      0.96      0.96       360\n",
      "\n"
     ]
    },
    {
     "name": "stderr",
     "output_type": "stream",
     "text": [
      "D:\\anaconda3\\envs\\cy\\lib\\site-packages\\sklearn\\neural_network\\_multilayer_perceptron.py:691: ConvergenceWarning: Stochastic Optimizer: Maximum iterations (200) reached and the optimization hasn't converged yet.\n",
      "  warnings.warn(\n"
     ]
    },
    {
     "data": {
      "text/html": [
       "<div>\n",
       "<style scoped>\n",
       "    .dataframe tbody tr th:only-of-type {\n",
       "        vertical-align: middle;\n",
       "    }\n",
       "\n",
       "    .dataframe tbody tr th {\n",
       "        vertical-align: top;\n",
       "    }\n",
       "\n",
       "    .dataframe thead th {\n",
       "        text-align: right;\n",
       "    }\n",
       "</style>\n",
       "<table border=\"1\" class=\"dataframe\">\n",
       "  <thead>\n",
       "    <tr style=\"text-align: right;\">\n",
       "      <th></th>\n",
       "      <th>Model</th>\n",
       "      <th>precision</th>\n",
       "      <th>recall</th>\n",
       "      <th>f1-score</th>\n",
       "    </tr>\n",
       "  </thead>\n",
       "  <tbody>\n",
       "    <tr>\n",
       "      <th>0</th>\n",
       "      <td>se</td>\n",
       "      <td>0.769231</td>\n",
       "      <td>0.857143</td>\n",
       "      <td>0.810811</td>\n",
       "    </tr>\n",
       "    <tr>\n",
       "      <th>1</th>\n",
       "      <td>ve</td>\n",
       "      <td>0.769231</td>\n",
       "      <td>0.857143</td>\n",
       "      <td>0.810811</td>\n",
       "    </tr>\n",
       "  </tbody>\n",
       "</table>\n",
       "</div>"
      ],
      "text/plain": [
       "  Model  precision    recall  f1-score\n",
       "0    se   0.769231  0.857143  0.810811\n",
       "1    ve   0.769231  0.857143  0.810811"
      ]
     },
     "execution_count": 15,
     "metadata": {},
     "output_type": "execute_result"
    }
   ],
   "source": [
    "# 得到每一个fold的模型参数\n",
    "params_dict = get_params_dict(algo=algo, smelltype=smelltype)\n",
    "# 网格搜索集成模型\n",
    "model_scores = ensemble_predict(X, y, params_dict)\n",
    "write_report_result(model_scores, f\"tuning_model\\\\{smelltype}\")"
   ]
  },
  {
   "cell_type": "code",
   "execution_count": 5,
   "metadata": {},
   "outputs": [
    {
     "ename": "UnboundLocalError",
     "evalue": "local variable 'classifier' referenced before assignment",
     "output_type": "error",
     "traceback": [
      "\u001b[1;31m---------------------------------------------------------------------------\u001b[0m",
      "\u001b[1;31mUnboundLocalError\u001b[0m                         Traceback (most recent call last)",
      "Cell \u001b[1;32mIn[5], line 2\u001b[0m\n\u001b[0;32m      1\u001b[0m \u001b[38;5;66;03m# 默认参数集成模型\u001b[39;00m\n\u001b[1;32m----> 2\u001b[0m model_scores \u001b[38;5;241m=\u001b[39m \u001b[43mensemble_predict\u001b[49m\u001b[43m(\u001b[49m\u001b[43mX\u001b[49m\u001b[43m,\u001b[49m\u001b[43m \u001b[49m\u001b[43my\u001b[49m\u001b[43m,\u001b[49m\u001b[43m \u001b[49m\u001b[43m{\u001b[49m\u001b[43m}\u001b[49m\u001b[43m,\u001b[49m\u001b[43m \u001b[49m\u001b[43mdefault\u001b[49m\u001b[38;5;241;43m=\u001b[39;49m\u001b[38;5;28;43;01mTrue\u001b[39;49;00m\u001b[43m)\u001b[49m\n\u001b[0;32m      3\u001b[0m write_report_result(model_scores, \u001b[38;5;124mf\u001b[39m\u001b[38;5;124m\"\u001b[39m\u001b[38;5;124mdefault_model\u001b[39m\u001b[38;5;130;01m\\\\\u001b[39;00m\u001b[38;5;132;01m{\u001b[39;00msmelltype\u001b[38;5;132;01m}\u001b[39;00m\u001b[38;5;124m\"\u001b[39m)\n",
      "Cell \u001b[1;32mIn[4], line 22\u001b[0m, in \u001b[0;36mensemble_predict\u001b[1;34m(X, y, params_dict, default)\u001b[0m\n\u001b[0;32m     20\u001b[0m \u001b[38;5;28;01mif\u001b[39;00m default:\n\u001b[0;32m     21\u001b[0m     se_classifer\u001b[38;5;241m.\u001b[39mset_params()\n\u001b[1;32m---> 22\u001b[0m     \u001b[43mve_classifer\u001b[49m\u001b[38;5;241;43m.\u001b[39;49m\u001b[43mset_params\u001b[49m\u001b[43m(\u001b[49m\u001b[43m)\u001b[49m\n\u001b[0;32m     23\u001b[0m \u001b[38;5;28;01melse\u001b[39;00m:\n\u001b[0;32m     24\u001b[0m     se_classifer\u001b[38;5;241m.\u001b[39mset_params(params_dict[fold\u001b[38;5;241m-\u001b[39m\u001b[38;5;241m1\u001b[39m])\n",
      "File \u001b[1;32mD:\\pysmell\\ensemble.py:71\u001b[0m, in \u001b[0;36mVoteEnsemble.set_params\u001b[1;34m(self, params)\u001b[0m\n\u001b[0;32m     69\u001b[0m estimators \u001b[38;5;241m=\u001b[39m []\n\u001b[0;32m     70\u001b[0m \u001b[38;5;28;01mfor\u001b[39;00m a \u001b[38;5;129;01min\u001b[39;00m \u001b[38;5;28mself\u001b[39m\u001b[38;5;241m.\u001b[39malgo:\n\u001b[1;32m---> 71\u001b[0m     estimators\u001b[38;5;241m.\u001b[39mappend((a[\u001b[38;5;241m1\u001b[39m], \u001b[43mclassifier\u001b[49m))\n\u001b[0;32m     72\u001b[0m \u001b[38;5;28mself\u001b[39m\u001b[38;5;241m.\u001b[39mvoting_classifier \u001b[38;5;241m=\u001b[39m VotingClassifier(estimators\u001b[38;5;241m=\u001b[39mestimators, voting\u001b[38;5;241m=\u001b[39m\u001b[38;5;28mself\u001b[39m\u001b[38;5;241m.\u001b[39mvote_mode)\n",
      "\u001b[1;31mUnboundLocalError\u001b[0m: local variable 'classifier' referenced before assignment"
     ]
    }
   ],
   "source": [
    "# 默认参数集成模型\n",
    "model_scores = ensemble_predict(X, y, {}, default=True)\n",
    "write_report_result(model_scores, f\"default_model\\\\{smelltype}\")"
   ]
  }
 ],
 "metadata": {
  "kernelspec": {
   "display_name": "Python 3 (ipykernel)",
   "language": "python",
   "name": "python3"
  },
  "language_info": {
   "codemirror_mode": {
    "name": "ipython",
    "version": 3
   },
   "file_extension": ".py",
   "mimetype": "text/x-python",
   "name": "python",
   "nbconvert_exporter": "python",
   "pygments_lexer": "ipython3",
   "version": "3.10.9"
  }
 },
 "nbformat": 4,
 "nbformat_minor": 4
}
